{
 "cells": [
  {
   "cell_type": "markdown",
   "id": "edb875ed",
   "metadata": {},
   "source": [
    "\n",
    "### PRÉSTAMO DE LIBROS EN LA BIBLIOTECA"
   ]
  },
  {
   "cell_type": "code",
   "execution_count": 1,
   "id": "8ee5f97e",
   "metadata": {},
   "outputs": [],
   "source": [
    "# Importamos pandas\n",
    "import pandas as pd"
   ]
  },
  {
   "cell_type": "code",
   "execution_count": null,
   "id": "f9e61cec",
   "metadata": {},
   "outputs": [],
   "source": [
    "# 1. Crear el DataFrame con los datos de los compañeros y los días de préstamo\n",
    "data = {\n",
    "    'Compañero': ['Rosa', 'David', 'Elena', 'Mario', 'Paula'],\n",
    "    'Días_prestamo': [7, 10, 5, 12, 3]\n",
    "}\n",
    "\n",
    "df = pd.DataFrame(data)"
   ]
  },
  {
   "cell_type": "code",
   "execution_count": 3,
   "id": "67e6721c",
   "metadata": {},
   "outputs": [],
   "source": [
    "# 2. Calcular el promedio y el máximo de días de préstamo\n",
    "promedio_dias = df['Días_prestamo'].mean()\n",
    "max_dias = df['Días_prestamo'].max()"
   ]
  },
  {
   "cell_type": "code",
   "execution_count": 4,
   "id": "3e805a19",
   "metadata": {},
   "outputs": [],
   "source": [
    "# 3. Filtrar los compañeros que retuvieron el libro más de 8 días\n",
    "filtrados = df[df['Días_prestamo'] > 8]"
   ]
  },
  {
   "cell_type": "code",
   "execution_count": 12,
   "id": "7728d2b3",
   "metadata": {},
   "outputs": [
    {
     "name": "stdout",
     "output_type": "stream",
     "text": [
      "Resumen de estadísticas:\n",
      "----------------------------------------\n",
      "Promedio de días de préstamo:  7.4\n",
      "Máximo de días de préstamo:    12\n",
      "----------------------------------------\n",
      "Compañeros que retuvieron el libro más de 8 días:\n",
      "----------------------------------------\n",
      "Compañero       | Días_prestamo  \n",
      "----------------------------------------\n",
      "David           | 10             \n",
      "Mario           | 12             \n",
      "----------------------------------------\n"
     ]
    }
   ],
   "source": [
    "# 4. Mostrar resultados mejorados\n",
    "\n",
    "print(\"Resumen de estadísticas:\")\n",
    "print(\"\" + \"-\"*40)\n",
    "print(f\"{'Promedio de días de préstamo:':<30} {promedio_dias}\")\n",
    "print(f\"{'Máximo de días de préstamo:':<30} {max_dias}\")\n",
    "print(\"-\"*40)\n",
    "\n",
    "print(\"Compañeros que retuvieron el libro más de 8 días:\")\n",
    "print(\"-\"*40)\n",
    "print(f\"{'Compañero':<15} | {'Días_prestamo':<15}\")\n",
    "print(\"-\"*40)\n",
    "for _, fila in filtrados.iterrows():\n",
    "    print(f\"{fila['Compañero']:<15} | {fila['Días_prestamo']:<15}\")\n",
    "print(\"-\"*40)\n"
   ]
  }
 ],
 "metadata": {
  "kernelspec": {
   "display_name": "Python 3",
   "language": "python",
   "name": "python3"
  },
  "language_info": {
   "codemirror_mode": {
    "name": "ipython",
    "version": 3
   },
   "file_extension": ".py",
   "mimetype": "text/x-python",
   "name": "python",
   "nbconvert_exporter": "python",
   "pygments_lexer": "ipython3",
   "version": "3.12.5"
  }
 },
 "nbformat": 4,
 "nbformat_minor": 5
}
