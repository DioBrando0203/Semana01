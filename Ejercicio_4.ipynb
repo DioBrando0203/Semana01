{
 "cells": [
  {
   "cell_type": "markdown",
   "id": "d7f6b7bf",
   "metadata": {},
   "source": [
    "### GASTOS DE ALMUERZO SEMANAL"
   ]
  },
  {
   "cell_type": "code",
   "execution_count": 1,
   "id": "1e50fd6c",
   "metadata": {},
   "outputs": [],
   "source": [
    "# Importamos pandas\n",
    "import pandas as pd"
   ]
  },
  {
   "cell_type": "code",
   "execution_count": 2,
   "id": "c2fdd29e",
   "metadata": {},
   "outputs": [],
   "source": [
    "# 1. Convertir la lista de gastos a un DataFrame\n",
    "gastos = [4.0, 3.5, 5.0, 4.2, 3.8]  # Lista de gastos de lunes a viernes\n",
    "dias = ['Lunes', 'Martes', 'Miércoles', 'Jueves', 'Viernes']  # Días de la semana"
   ]
  },
  {
   "cell_type": "code",
   "execution_count": 3,
   "id": "f89f88fe",
   "metadata": {},
   "outputs": [],
   "source": [
    "# Creamos el DataFrame\n",
    "df = pd.DataFrame(gastos, columns=['Gasto'], index=dias)"
   ]
  },
  {
   "cell_type": "code",
   "execution_count": 4,
   "id": "70293e2c",
   "metadata": {},
   "outputs": [],
   "source": [
    "# 2. Calcular el gasto total y el gasto medio\n",
    "gasto_total = df['Gasto'].sum()  # Suma de todos los gastos\n",
    "gasto_medio = df['Gasto'].mean()  # Promedio de los gastos"
   ]
  },
  {
   "cell_type": "code",
   "execution_count": 5,
   "id": "9dcd33ae",
   "metadata": {},
   "outputs": [],
   "source": [
    "# 3. Filtrar los días en que gastó más que el promedio\n",
    "dias_mayores_que_promedio = df[df['Gasto'] > gasto_medio]\n"
   ]
  },
  {
   "cell_type": "code",
   "execution_count": 7,
   "id": "9ed79395",
   "metadata": {},
   "outputs": [
    {
     "name": "stdout",
     "output_type": "stream",
     "text": [
      "----------------------------------------\n",
      "Gasto total de la semana:      S/20.50\n",
      "Gasto medio de la semana:      S/4.10\n",
      "----------------------------------------\n",
      "\n",
      "Días en los que gastó más que el promedio:\n",
      "----------------------------------------\n",
      "Día             | Gasto     \n",
      "----------------------------------------\n",
      "Miércoles       | S/5.00    \n",
      "Jueves          | S/4.20    \n",
      "----------------------------------------\n"
     ]
    }
   ],
   "source": [
    "# 4. Mostrar los resultados con formato de tabla\n",
    "\n",
    "print(\"-\" * 40)\n",
    "print(f\"{'Gasto total de la semana:':<30} S/{gasto_total:.2f}\")\n",
    "print(f\"{'Gasto medio de la semana:':<30} S/{gasto_medio:.2f}\")\n",
    "print(\"-\" * 40)\n",
    "\n",
    "print(\"\\nDías en los que gastó más que el promedio:\")\n",
    "print(\"-\" * 40)\n",
    "print(f\"{'Día':<15} | {'Gasto':<10}\")\n",
    "print(\"-\" * 40)\n",
    "for dia, fila in dias_mayores_que_promedio.iterrows():\n",
    "    print(f\"{dia:<15} | S/{fila['Gasto']:<8.2f}\")\n",
    "print(\"-\" * 40)\n"
   ]
  }
 ],
 "metadata": {
  "kernelspec": {
   "display_name": "Python 3",
   "language": "python",
   "name": "python3"
  },
  "language_info": {
   "codemirror_mode": {
    "name": "ipython",
    "version": 3
   },
   "file_extension": ".py",
   "mimetype": "text/x-python",
   "name": "python",
   "nbconvert_exporter": "python",
   "pygments_lexer": "ipython3",
   "version": "3.12.5"
  }
 },
 "nbformat": 4,
 "nbformat_minor": 5
}
