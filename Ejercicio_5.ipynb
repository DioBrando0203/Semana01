{
 "cells": [
  {
   "cell_type": "markdown",
   "id": "6655f7e8",
   "metadata": {},
   "source": [
    "#### RECARGA DE DATOS MÓVILES\n"
   ]
  },
  {
   "cell_type": "code",
   "execution_count": 2,
   "id": "7de6d1de",
   "metadata": {},
   "outputs": [],
   "source": [
    "# Importamos NumPy\n",
    "import numpy as np"
   ]
  },
  {
   "cell_type": "code",
   "execution_count": 3,
   "id": "d61c33a4",
   "metadata": {},
   "outputs": [],
   "source": [
    "# 1. Crear arrays con los valores de GB y los precios\n",
    "gb = np.array([1, 2, 5, 10])  # Paquetes en GB\n",
    "precios = np.array([5, 9, 20, 35])  # Precios en soles"
   ]
  },
  {
   "cell_type": "code",
   "execution_count": 4,
   "id": "5d4aa9ca",
   "metadata": {},
   "outputs": [],
   "source": [
    "# 2. Calcular el costo por GB para cada paquete\n",
    "costo_por_gb = precios / gb"
   ]
  },
  {
   "cell_type": "code",
   "execution_count": 5,
   "id": "7de9e419",
   "metadata": {},
   "outputs": [],
   "source": [
    "# 3. Encontrar el paquete más económico en precio por GB\n",
    "paquete_mas_economico = costo_por_gb.min()  # Costo mínimo por GB\n",
    "indice_paquete = costo_por_gb.argmin()  # Índice del paquete más económico"
   ]
  },
  {
   "cell_type": "code",
   "execution_count": 6,
   "id": "6ed19c0b",
   "metadata": {},
   "outputs": [
    {
     "name": "stdout",
     "output_type": "stream",
     "text": [
      "\n",
      "Costo por GB para cada paquete:\n",
      "----------------------------------------\n",
      "Paquete (GB)    | Precio (S/)  | Costo/GB  \n",
      "----------------------------------------\n",
      "1               | S/5.00       | S/5.00    \n",
      "2               | S/9.00       | S/4.50    \n",
      "5               | S/20.00      | S/4.00    \n",
      "10              | S/35.00      | S/3.50    \n",
      "----------------------------------------\n",
      "\n",
      "El paquete más económico es el de 10 GB con un costo por GB de S/3.50.\n"
     ]
    }
   ],
   "source": [
    "# 4. Mostrar los resultados\n",
    "# 4. Mostrar los resultados con formato de tabla\n",
    "\n",
    "print(\"\\nCosto por GB para cada paquete:\")\n",
    "print(\"-\" * 40)\n",
    "print(f\"{'Paquete (GB)':<15} | {'Precio (S/)':<12} | {'Costo/GB':<10}\")\n",
    "print(\"-\" * 40)\n",
    "for i in range(len(gb)):\n",
    "    print(f\"{gb[i]:<15} | S/{precios[i]:<10.2f} | S/{costo_por_gb[i]:<8.2f}\")\n",
    "print(\"-\" * 40)\n",
    "\n",
    "print(f\"\\nEl paquete más económico es el de {gb[indice_paquete]} GB con un costo por GB de S/{paquete_mas_economico:.2f}.\")\n"
   ]
  }
 ],
 "metadata": {
  "kernelspec": {
   "display_name": "Python 3",
   "language": "python",
   "name": "python3"
  },
  "language_info": {
   "codemirror_mode": {
    "name": "ipython",
    "version": 3
   },
   "file_extension": ".py",
   "mimetype": "text/x-python",
   "name": "python",
   "nbconvert_exporter": "python",
   "pygments_lexer": "ipython3",
   "version": "3.12.5"
  }
 },
 "nbformat": 4,
 "nbformat_minor": 5
}
