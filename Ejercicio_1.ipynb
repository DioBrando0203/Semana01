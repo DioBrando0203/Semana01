{
 "cells": [
  {
   "cell_type": "markdown",
   "id": "50c53c4e",
   "metadata": {},
   "source": [
    "\n",
    "### FOTOCOPIAS PARA APUNTES"
   ]
  },
  {
   "cell_type": "code",
   "execution_count": 1,
   "id": "8dc1143b",
   "metadata": {},
   "outputs": [],
   "source": [
    "# 1. Importamos NumPy\n",
    "import numpy as np"
   ]
  },
  {
   "cell_type": "code",
   "execution_count": null,
   "id": "ac7a07f5",
   "metadata": {},
   "outputs": [],
   "source": [
    "# 2. Creamos un array de precios con los precios de cada copistería\n",
    "precios = np.array([0.10, 0.12, 0.08])"
   ]
  },
  {
   "cell_type": "code",
   "execution_count": null,
   "id": "ecf1d4bb",
   "metadata": {},
   "outputs": [],
   "source": [
    "# 3. Calculamos el número de cafés posibles que Martina puede comprar con S/8 en cada cafetería.\n",
    "# Usamos np.floor() para redondear hacia abajo ya que no puede comprar fracciones de café\n",
    "max_copias=np.floor( 8/ precios)"
   ]
  },
  {
   "cell_type": "code",
   "execution_count": null,
   "id": "b87a2867",
   "metadata": {},
   "outputs": [],
   "source": [
    "# 4. Encontramos la copistería donde Martina puede sacar más copias.\n",
    "# Usamos .max() para encontrar el máximo valor en el array \n",
    "# Usamos .argmax() para encontrar el índice de ese valor máximo \n",
    "max_copias_count = max_copias.max() \n",
    "max_copias_index = max_copias.argmax() "
   ]
  },
  {
   "cell_type": "code",
   "execution_count": null,
   "id": "2b77437f",
   "metadata": {},
   "outputs": [
    {
     "name": "stdout",
     "output_type": "stream",
     "text": [
      "\n",
      "Cantidad de fotocopias posibles con S/8:\n",
      "----------------------------------------\n",
      "Copistería   | Páginas\n",
      "----------------------------------------\n",
      "A            | 80\n",
      "B            | 66\n",
      "C            | 100\n",
      "----------------------------------------\n",
      "\n",
      "Martina puede sacar más fotocopias en la copistería C (100 páginas).\n"
     ]
    }
   ],
   "source": [
    "# . Ahora imprimimos los resultados\n",
    "copias = ['A', 'B', 'C']\n",
    "\n",
    "print(\"\\nCantidad de fotocopias posibles con S/8:\")\n",
    "print(\"-\" * 40)\n",
    "print(f\"{'Copistería':<12} | {'Páginas'}\")\n",
    "print(\"-\" * 40)\n",
    "for i in range(len(copias)):\n",
    "    print(f\"{copias[i]:<12} | {int(max_copias[i])}\")\n",
    "print(\"-\" * 40)\n",
    "print(f\"\\nMartina puede sacar más fotocopias en la copistería {copias[max_copias_index]} ({int(max_copias_count)} páginas).\")\n"
   ]
  }
 ],
 "metadata": {
  "kernelspec": {
   "display_name": "Python 3",
   "language": "python",
   "name": "python3"
  },
  "language_info": {
   "codemirror_mode": {
    "name": "ipython",
    "version": 3
   },
   "file_extension": ".py",
   "mimetype": "text/x-python",
   "name": "python",
   "nbconvert_exporter": "python",
   "pygments_lexer": "ipython3",
   "version": "3.12.5"
  }
 },
 "nbformat": 4,
 "nbformat_minor": 5
}
