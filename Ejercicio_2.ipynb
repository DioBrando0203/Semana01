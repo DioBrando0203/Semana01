{
 "cells": [
  {
   "cell_type": "markdown",
   "id": "5c6d715d",
   "metadata": {},
   "source": [
    "\n",
    "### VIAJES AL CAMPUS"
   ]
  },
  {
   "cell_type": "code",
   "execution_count": 1,
   "id": "8dc1143b",
   "metadata": {},
   "outputs": [],
   "source": [
    "# 1. Importamos NumPy\n",
    "import numpy as np"
   ]
  },
  {
   "cell_type": "code",
   "execution_count": null,
   "id": "ac7a07f5",
   "metadata": {},
   "outputs": [],
   "source": [
    "# 2. Creamos un array de precios con los precios de transporte\n",
    "precios = np.array([2.50,  3.00 , 1.80])"
   ]
  },
  {
   "cell_type": "code",
   "execution_count": null,
   "id": "ecf1d4bb",
   "metadata": {},
   "outputs": [],
   "source": [
    "# 3. Calculamos el número de viajes posibles que Carlos  puede pagar con S/15 en cada transporte.\n",
    "# Usamos np.floor() para redondear hacia abajo\n",
    "max_viajes=np.floor( 15/ precios)"
   ]
  },
  {
   "cell_type": "code",
   "execution_count": null,
   "id": "b87a2867",
   "metadata": {},
   "outputs": [],
   "source": [
    "# 4. Encontramos la cafetería donde Jorge puede comprar más cafés.\n",
    "# Usamos .max() para encontrar el máximo valor en el array \n",
    "# Usamos .argmax() para encontrar el índice de ese valor máximo \n",
    "max_viajes_count = max_viajes.max()  # Número máximo de viajes\n",
    "max_viajes_index = max_viajes.argmax()  # Índice del transporte con más cafés"
   ]
  },
  {
   "cell_type": "code",
   "execution_count": null,
   "id": "2b77437f",
   "metadata": {},
   "outputs": [
    {
     "name": "stdout",
     "output_type": "stream",
     "text": [
      "\n",
      "Cantidad de viajes posibles con S/15:\n",
      "------------------------------\n",
      "Transporte | Viajes\n",
      "------------------------------\n",
      "BUS        | 6\n",
      "COMBI      | 5\n",
      "TREN       | 8\n",
      "------------------------------\n",
      "\n",
      "Carlos puede hacer más viajes con el TREN (8 viajes).\n"
     ]
    }
   ],
   "source": [
    "# 5. Ahora imprimimos los resultados\n",
    "viajes = ['BUS', 'COMBI', 'TREN']\n",
    "\n",
    "print(\"\\nCantidad de viajes posibles con S/15:\")\n",
    "print(\"-\" * 30)\n",
    "print(f\"{'Transporte':<10} | {'Viajes'}\")\n",
    "print(\"-\" * 30)\n",
    "for i in range(len(viajes)):\n",
    "    print(f\"{viajes[i]:<10} | {int(max_viajes[i])}\")\n",
    "print(\"-\" * 30)\n",
    "print(f\"\\nCarlos puede hacer más viajes con el {viajes[max_viajes_index]} ({int(max_viajes_count)} viajes).\")\n"
   ]
  }
 ],
 "metadata": {
  "kernelspec": {
   "display_name": "Python 3",
   "language": "python",
   "name": "python3"
  },
  "language_info": {
   "codemirror_mode": {
    "name": "ipython",
    "version": 3
   },
   "file_extension": ".py",
   "mimetype": "text/x-python",
   "name": "python",
   "nbconvert_exporter": "python",
   "pygments_lexer": "ipython3",
   "version": "3.12.5"
  }
 },
 "nbformat": 4,
 "nbformat_minor": 5
}
